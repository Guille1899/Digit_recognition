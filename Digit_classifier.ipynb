{
 "cells": [
  {
   "cell_type": "markdown",
   "metadata": {},
   "source": [
    "# Handwritten digit classifier"
   ]
  },
  {
   "cell_type": "markdown",
   "metadata": {},
   "source": [
    "## Imports"
   ]
  },
  {
   "cell_type": "code",
   "execution_count": 1,
   "metadata": {},
   "outputs": [
    {
     "name": "stderr",
     "output_type": "stream",
     "text": [
      "Using TensorFlow backend.\n"
     ]
    }
   ],
   "source": [
    "# General imports\n",
    "import numpy as np ; np.random.seed(1) # for reproducibility\n",
    "import os\n",
    "import zipfile\n",
    "import matplotlib.pyplot as plt\n",
    "import matplotlib.image as mpimg\n",
    "import random\n",
    "import shutil\n",
    "from datetime import datetime\n",
    "from sklearn.model_selection import train_test_split\n",
    "%matplotlib inline\n",
    "\n",
    "# TensorFlow\n",
    "import tensorflow as tf\n",
    "from tensorflow import keras\n",
    "from keras.utils import to_categorical\n",
    "from tensorflow.keras.optimizers import RMSprop, Adam\n",
    "from tensorflow.python.keras.models import Sequential\n",
    "from tensorflow.python.keras.layers import Dense, Conv2D, Flatten, MaxPooling2D "
   ]
  },
  {
   "cell_type": "markdown",
   "metadata": {},
   "source": [
    "## TensorFlow information"
   ]
  },
  {
   "cell_type": "code",
   "execution_count": 2,
   "metadata": {},
   "outputs": [
    {
     "name": "stdout",
     "output_type": "stream",
     "text": [
      "TensorFlow version: 2.1.0\n",
      "The GPU will be used for calculations.\n"
     ]
    }
   ],
   "source": [
    "# Indicate the version of Tensorflow and whether it uses the CPU or the GPU\n",
    "print(\"TensorFlow version:\", tf.__version__)\n",
    "\n",
    "if len(tf.config.list_physical_devices('GPU')) > 0:\n",
    "    print(\"The GPU will be used for calculations.\")\n",
    "    \n",
    "else:\n",
    "    print(\"The CPU will be used for calculations.\")"
   ]
  },
  {
   "cell_type": "markdown",
   "metadata": {},
   "source": [
    "## Functions"
   ]
  },
  {
   "cell_type": "code",
   "execution_count": 3,
   "metadata": {},
   "outputs": [],
   "source": [
    "def download_data(OS, url, distination_path):\n",
    "    \n",
    "    ''' Download data from an URL and save it locally '''\n",
    "    \n",
    "    # Import dataset\n",
    "    try:\n",
    "        if OS == 'macOS' or OS == 'Linux':\n",
    "            os.system(\"!wget --no-check-certificate \" + url + \" -O \" + distination_path)\n",
    "        elif OS == 'Windows':\n",
    "            !curl.exe --output $distination_path --url $url\n",
    "        else:\n",
    "            raise Exception('Please, select a valid Operating System (i.e., Windows, macOS or Linux)')\n",
    "\n",
    "    except Exception as e:    \n",
    "        raise Exception('Something went wrong downloading the data!')\n",
    "    "
   ]
  },
  {
   "cell_type": "markdown",
   "metadata": {},
   "source": [
    "## 1. Import data "
   ]
  },
  {
   "cell_type": "markdown",
   "metadata": {},
   "source": [
    "### Raw data"
   ]
  },
  {
   "cell_type": "code",
   "execution_count": 4,
   "metadata": {},
   "outputs": [],
   "source": [
    "# Import images and labels from the MNIST database\n",
    "(train_X, train_y), (test_X, test_y) = tf.keras.datasets.mnist.load_data()"
   ]
  },
  {
   "cell_type": "markdown",
   "metadata": {},
   "source": [
    "## 2. Describe data"
   ]
  },
  {
   "cell_type": "code",
   "execution_count": 5,
   "metadata": {},
   "outputs": [
    {
     "name": "stdout",
     "output_type": "stream",
     "text": [
      "Training images dimensions: (60000, 28, 28)\n",
      "Training labels size: 60000\n",
      "Test images dimensions: (10000, 28, 28)\n",
      "Test labels size: 10000\n"
     ]
    }
   ],
   "source": [
    "# Describe data dimensions\n",
    "print('Training images dimensions:', train_X.shape)\n",
    "print('Training labels size:', train_y.shape[0])\n",
    "print('Test images dimensions:', test_X.shape)\n",
    "print('Test labels size:', test_y.shape[0])"
   ]
  },
  {
   "cell_type": "code",
   "execution_count": 6,
   "metadata": {},
   "outputs": [
    {
     "data": {
      "image/png": "[encoded data removed]",
      "text/plain": [
       "<Figure size 864x864 with 16 Axes>"
      ]
     },
     "metadata": {
      "needs_background": "light"
     },
     "output_type": "display_data"
    }
   ],
   "source": [
    "# Number of pictures in the grid\n",
    "nrows = 4\n",
    "ncols = 4\n",
    "\n",
    "# Set up matplotlib fig\n",
    "longitude_image = 3 # Inches per picture\n",
    "fig = plt.gcf()\n",
    "fig.set_size_inches(ncols * longitude_image, nrows * longitude_image)\n",
    "\n",
    "# Plot some examples\n",
    "for i in range(nrows*ncols):  \n",
    "    sp = plt.subplot(nrows, ncols, i + 1)\n",
    "    sp.axis('Off') # Don't show axes (or gridlines)\n",
    "    plt.imshow(train_X[i], cmap=plt.get_cmap('gray'))\n",
    "    plt.title('This is a ' + str(train_y[i]))\n",
    "\n",
    "# Plot grid\n",
    "plt.show()"
   ]
  },
  {
   "cell_type": "markdown",
   "metadata": {},
   "source": [
    "## 3. Data Preprocessing"
   ]
  },
  {
   "cell_type": "markdown",
   "metadata": {},
   "source": [
    "### Shuffle data"
   ]
  },
  {
   "cell_type": "code",
   "execution_count": 7,
   "metadata": {},
   "outputs": [],
   "source": [
    "# Import images and labels from the MNIST database\n",
    "(train_X, train_y), (test_X, test_y) = tf.keras.datasets.mnist.load_data()\n",
    "\n",
    "# Shuffle train data\n",
    "permut = np.random.permutation(train_X.shape[0])\n",
    "train_X = train_X[permut]\n",
    "train_y = train_y[permut]\n",
    "\n",
    "# Shuffle test data\n",
    "permut = np.random.permutation(test_X.shape[0])\n",
    "test_X = test_X[permut]\n",
    "test_y = test_y[permut]"
   ]
  },
  {
   "cell_type": "markdown",
   "metadata": {},
   "source": [
    "### Reshape"
   ]
  },
  {
   "cell_type": "code",
   "execution_count": 8,
   "metadata": {},
   "outputs": [
    {
     "name": "stdout",
     "output_type": "stream",
     "text": [
      "Training images dimensions: (60000, 28, 28, 1)\n",
      "Test images dimensions: (10000, 28, 28, 1)\n"
     ]
    }
   ],
   "source": [
    "# Reshape images to include the channels\n",
    "train_X = train_X.reshape(train_X.shape + (1,))\n",
    "test_X = test_X.reshape(test_X.shape + (1,))\n",
    "\n",
    "# Describe data dimensions\n",
    "print('Training images dimensions:', train_X.shape)\n",
    "print('Test images dimensions:', test_X.shape)"
   ]
  },
  {
   "cell_type": "markdown",
   "metadata": {},
   "source": [
    "### Normalize"
   ]
  },
  {
   "cell_type": "code",
   "execution_count": 9,
   "metadata": {},
   "outputs": [],
   "source": [
    "# Normalize\n",
    "train_X = train_X / 255.\n",
    "test_X = test_X / 255.\n",
    "train_X = train_X.astype('float32')\n",
    "test_X = test_X.astype('float32')                "
   ]
  },
  {
   "cell_type": "markdown",
   "metadata": {},
   "source": [
    "### Convert labels to One-hot"
   ]
  },
  {
   "cell_type": "code",
   "execution_count": 10,
   "metadata": {},
   "outputs": [],
   "source": [
    "# Converting Labels to one hot encoded format\n",
    "train_y_one_hot = to_categorical(train_y)\n",
    "test_y_one_hot = to_categorical(test_y)"
   ]
  },
  {
   "cell_type": "markdown",
   "metadata": {},
   "source": [
    "### Create validation set"
   ]
  },
  {
   "cell_type": "code",
   "execution_count": 11,
   "metadata": {},
   "outputs": [],
   "source": [
    "# Create validation set\n",
    "X_train, X_val, y_train, y_val = train_test_split(train_X, \n",
    "                                                  train_y_one_hot, \n",
    "                                                  test_size=0.05, \n",
    "                                                  random_state=1)"
   ]
  },
  {
   "cell_type": "code",
   "execution_count": 12,
   "metadata": {},
   "outputs": [
    {
     "name": "stdout",
     "output_type": "stream",
     "text": [
      "Training images dimensions: (57000, 28, 28, 1)\n",
      "Training labels size: 57000\n",
      "Validation images dimensions: (3000, 28, 28, 1)\n",
      "Validation labels size: 3000\n",
      "Test images dimensions: (10000, 28, 28, 1)\n",
      "Test labels size: 10000\n"
     ]
    }
   ],
   "source": [
    "# Describe data dimensions\n",
    "print('Training images dimensions:', X_train.shape)\n",
    "print('Training labels size:', y_train.shape[0])\n",
    "print('Validation images dimensions:', X_val.shape)\n",
    "print('Validation labels size:', y_val.shape[0])\n",
    "print('Test images dimensions:', test_X.shape)\n",
    "print('Test labels size:', test_y.shape[0])"
   ]
  },
  {
   "cell_type": "markdown",
   "metadata": {},
   "source": [
    "## 4. Convolutional NN\n",
    "The \"output shape\" column in the summary shows how the size of your feature map evolves in each successive layer. The convolution layers reduce the size of the feature maps by a bit due to padding, and each pooling layer halves the dimensions."
   ]
  },
  {
   "cell_type": "markdown",
   "metadata": {},
   "source": [
    "### Model"
   ]
  },
  {
   "cell_type": "code",
   "execution_count": 13,
   "metadata": {},
   "outputs": [
    {
     "name": "stdout",
     "output_type": "stream",
     "text": [
      "Model: \"sequential\"\n",
      "_________________________________________________________________\n",
      "Layer (type)                 Output Shape              Param #   \n",
      "=================================================================\n",
      "conv2d (Conv2D)              (None, 28, 28, 32)        320       \n",
      "_________________________________________________________________\n",
      "max_pooling2d (MaxPooling2D) (None, 14, 14, 32)        0         \n",
      "_________________________________________________________________\n",
      "conv2d_1 (Conv2D)            (None, 14, 14, 64)        18496     \n",
      "_________________________________________________________________\n",
      "max_pooling2d_1 (MaxPooling2 (None, 7, 7, 64)          0         \n",
      "_________________________________________________________________\n",
      "flatten (Flatten)            (None, 3136)              0         \n",
      "_________________________________________________________________\n",
      "dense (Dense)                (None, 128)               401536    \n",
      "_________________________________________________________________\n",
      "dense_1 (Dense)              (None, 10)                1290      \n",
      "=================================================================\n",
      "Total params: 421,642\n",
      "Trainable params: 421,642\n",
      "Non-trainable params: 0\n",
      "_________________________________________________________________\n"
     ]
    }
   ],
   "source": [
    "# Create model\n",
    "model = Sequential()\n",
    "model.add(Conv2D(32, (3, 3), input_shape=(28, 28, 1), padding='same', activation='relu'))\n",
    "model.add(MaxPooling2D())\n",
    "model.add(Conv2D(64, (3, 3), padding='same', activation='relu'))\n",
    "model.add(MaxPooling2D())\n",
    "model.add(Flatten())\n",
    "model.add(Dense(128, activation='relu'))\n",
    "model.add(Dense(10, activation='softmax'))\n",
    "\n",
    "# Print summary\n",
    "model.summary()"
   ]
  },
  {
   "cell_type": "markdown",
   "metadata": {},
   "source": [
    "### Compile"
   ]
  },
  {
   "cell_type": "code",
   "execution_count": 14,
   "metadata": {},
   "outputs": [],
   "source": [
    "# Compile model\n",
    "model.compile(\n",
    "    optimizer=Adam(lr=1e-4, decay=1e-6), \n",
    "    loss='categorical_crossentropy', \n",
    "    metrics=['accuracy']\n",
    ")"
   ]
  },
  {
   "cell_type": "markdown",
   "metadata": {},
   "source": [
    "## 5. Train"
   ]
  },
  {
   "cell_type": "code",
   "execution_count": 15,
   "metadata": {},
   "outputs": [
    {
     "name": "stdout",
     "output_type": "stream",
     "text": [
      "Train on 57000 samples, validate on 3000 samples\n",
      "Epoch 1/50\n",
      "57000/57000 - 16s - loss: 0.3404 - accuracy: 0.9078 - val_loss: 0.1125 - val_accuracy: 0.9663\n",
      "Epoch 2/50\n",
      "57000/57000 - 13s - loss: 0.0953 - accuracy: 0.9714 - val_loss: 0.0754 - val_accuracy: 0.9763\n",
      "Epoch 3/50\n",
      "57000/57000 - 13s - loss: 0.0668 - accuracy: 0.9798 - val_loss: 0.0583 - val_accuracy: 0.9803\n",
      "Epoch 4/50\n",
      "57000/57000 - 13s - loss: 0.0534 - accuracy: 0.9838 - val_loss: 0.0473 - val_accuracy: 0.9827\n",
      "Epoch 5/50\n",
      "57000/57000 - 13s - loss: 0.0449 - accuracy: 0.9864 - val_loss: 0.0431 - val_accuracy: 0.9860\n",
      "Epoch 6/50\n",
      "57000/57000 - 13s - loss: 0.0378 - accuracy: 0.9885 - val_loss: 0.0372 - val_accuracy: 0.9880\n",
      "Epoch 7/50\n",
      "57000/57000 - 13s - loss: 0.0330 - accuracy: 0.9901 - val_loss: 0.0328 - val_accuracy: 0.9907\n",
      "Epoch 8/50\n",
      "57000/57000 - 13s - loss: 0.0289 - accuracy: 0.9911 - val_loss: 0.0331 - val_accuracy: 0.9897\n",
      "Epoch 9/50\n",
      "57000/57000 - 13s - loss: 0.0243 - accuracy: 0.9925 - val_loss: 0.0413 - val_accuracy: 0.9867\n",
      "Epoch 10/50\n",
      "57000/57000 - 13s - loss: 0.0219 - accuracy: 0.9934 - val_loss: 0.0337 - val_accuracy: 0.9893\n",
      "Epoch 11/50\n",
      "57000/57000 - 13s - loss: 0.0193 - accuracy: 0.9942 - val_loss: 0.0279 - val_accuracy: 0.9917\n",
      "Epoch 12/50\n",
      "57000/57000 - 13s - loss: 0.0165 - accuracy: 0.9949 - val_loss: 0.0290 - val_accuracy: 0.9937\n",
      "Epoch 13/50\n",
      "57000/57000 - 13s - loss: 0.0152 - accuracy: 0.9951 - val_loss: 0.0302 - val_accuracy: 0.9913\n",
      "Epoch 14/50\n",
      "57000/57000 - 13s - loss: 0.0130 - accuracy: 0.9960 - val_loss: 0.0384 - val_accuracy: 0.9897\n",
      "Epoch 15/50\n",
      "57000/57000 - 13s - loss: 0.0121 - accuracy: 0.9961 - val_loss: 0.0272 - val_accuracy: 0.9930\n",
      "Epoch 16/50\n",
      "57000/57000 - 13s - loss: 0.0102 - accuracy: 0.9971 - val_loss: 0.0257 - val_accuracy: 0.9927\n",
      "Epoch 17/50\n",
      "57000/57000 - 13s - loss: 0.0097 - accuracy: 0.9970 - val_loss: 0.0301 - val_accuracy: 0.9907\n",
      "Epoch 18/50\n",
      "57000/57000 - 13s - loss: 0.0075 - accuracy: 0.9978 - val_loss: 0.0267 - val_accuracy: 0.9923\n",
      "Epoch 19/50\n",
      "57000/57000 - 13s - loss: 0.0065 - accuracy: 0.9983 - val_loss: 0.0323 - val_accuracy: 0.9913\n",
      "Epoch 20/50\n",
      "57000/57000 - 13s - loss: 0.0069 - accuracy: 0.9980 - val_loss: 0.0312 - val_accuracy: 0.9917\n",
      "Epoch 21/50\n",
      "57000/57000 - 13s - loss: 0.0058 - accuracy: 0.9983 - val_loss: 0.0290 - val_accuracy: 0.9933\n",
      "Epoch 22/50\n",
      "57000/57000 - 13s - loss: 0.0050 - accuracy: 0.9986 - val_loss: 0.0332 - val_accuracy: 0.9920\n",
      "Epoch 23/50\n",
      "57000/57000 - 13s - loss: 0.0044 - accuracy: 0.9987 - val_loss: 0.0306 - val_accuracy: 0.9923\n",
      "Epoch 24/50\n",
      "57000/57000 - 13s - loss: 0.0041 - accuracy: 0.9988 - val_loss: 0.0288 - val_accuracy: 0.9933\n",
      "Epoch 25/50\n",
      "57000/57000 - 13s - loss: 0.0032 - accuracy: 0.9993 - val_loss: 0.0448 - val_accuracy: 0.9897\n",
      "Epoch 26/50\n",
      "57000/57000 - 13s - loss: 0.0034 - accuracy: 0.9989 - val_loss: 0.0308 - val_accuracy: 0.9923\n",
      "Epoch 27/50\n",
      "57000/57000 - 13s - loss: 0.0026 - accuracy: 0.9994 - val_loss: 0.0332 - val_accuracy: 0.9910\n",
      "Epoch 28/50\n",
      "57000/57000 - 13s - loss: 0.0027 - accuracy: 0.9992 - val_loss: 0.0349 - val_accuracy: 0.9910\n",
      "Epoch 29/50\n",
      "57000/57000 - 13s - loss: 0.0019 - accuracy: 0.9995 - val_loss: 0.0346 - val_accuracy: 0.9917\n",
      "Epoch 30/50\n",
      "57000/57000 - 13s - loss: 0.0021 - accuracy: 0.9993 - val_loss: 0.0366 - val_accuracy: 0.9910\n",
      "Epoch 31/50\n",
      "57000/57000 - 13s - loss: 0.0026 - accuracy: 0.9991 - val_loss: 0.0335 - val_accuracy: 0.9930\n",
      "Epoch 32/50\n",
      "57000/57000 - 13s - loss: 0.0013 - accuracy: 0.9996 - val_loss: 0.0421 - val_accuracy: 0.9913\n",
      "Epoch 33/50\n",
      "57000/57000 - 13s - loss: 0.0020 - accuracy: 0.9994 - val_loss: 0.0323 - val_accuracy: 0.9927\n",
      "Epoch 34/50\n",
      "57000/57000 - 13s - loss: 0.0021 - accuracy: 0.9995 - val_loss: 0.0419 - val_accuracy: 0.9907\n",
      "Epoch 35/50\n",
      "57000/57000 - 13s - loss: 0.0010 - accuracy: 0.9998 - val_loss: 0.0339 - val_accuracy: 0.9937\n",
      "Epoch 36/50\n",
      "57000/57000 - 13s - loss: 0.0017 - accuracy: 0.9995 - val_loss: 0.0628 - val_accuracy: 0.9870\n",
      "Epoch 37/50\n",
      "57000/57000 - 13s - loss: 0.0015 - accuracy: 0.9996 - val_loss: 0.0381 - val_accuracy: 0.9937\n",
      "Epoch 38/50\n",
      "57000/57000 - 13s - loss: 0.0013 - accuracy: 0.9997 - val_loss: 0.0419 - val_accuracy: 0.9913\n",
      "Epoch 39/50\n",
      "57000/57000 - 13s - loss: 7.0685e-04 - accuracy: 0.9999 - val_loss: 0.0391 - val_accuracy: 0.9917\n",
      "Epoch 40/50\n",
      "57000/57000 - 13s - loss: 0.0020 - accuracy: 0.9994 - val_loss: 0.0407 - val_accuracy: 0.9923\n",
      "Epoch 41/50\n",
      "57000/57000 - 13s - loss: 4.3894e-04 - accuracy: 0.9999 - val_loss: 0.0375 - val_accuracy: 0.9927\n",
      "Epoch 42/50\n",
      "57000/57000 - 13s - loss: 0.0014 - accuracy: 0.9996 - val_loss: 0.0466 - val_accuracy: 0.9920\n",
      "Epoch 43/50\n",
      "57000/57000 - 13s - loss: 0.0012 - accuracy: 0.9997 - val_loss: 0.0399 - val_accuracy: 0.9930\n",
      "Epoch 44/50\n",
      "57000/57000 - 13s - loss: 7.2022e-04 - accuracy: 0.9998 - val_loss: 0.0575 - val_accuracy: 0.9897\n",
      "Epoch 45/50\n",
      "57000/57000 - 13s - loss: 9.9686e-04 - accuracy: 0.9998 - val_loss: 0.0371 - val_accuracy: 0.9940\n",
      "Epoch 46/50\n",
      "57000/57000 - 13s - loss: 0.0012 - accuracy: 0.9996 - val_loss: 0.0470 - val_accuracy: 0.9890\n",
      "Epoch 47/50\n",
      "57000/57000 - 13s - loss: 7.6795e-04 - accuracy: 0.9998 - val_loss: 0.0361 - val_accuracy: 0.9923\n",
      "Epoch 48/50\n",
      "57000/57000 - 13s - loss: 3.2458e-04 - accuracy: 1.0000 - val_loss: 0.0372 - val_accuracy: 0.9930\n",
      "Epoch 49/50\n",
      "57000/57000 - 13s - loss: 0.0013 - accuracy: 0.9996 - val_loss: 0.0361 - val_accuracy: 0.9940\n",
      "Epoch 50/50\n",
      "57000/57000 - 13s - loss: 3.4675e-04 - accuracy: 0.9999 - val_loss: 0.0349 - val_accuracy: 0.9940\n"
     ]
    }
   ],
   "source": [
    "# Set seed for random functions\n",
    "tf.random.set_seed(1)\n",
    "\n",
    "# Fit the model\n",
    "history = model.fit(\n",
    "    x=X_train,\n",
    "    y=y_train,\n",
    "    batch_size=32,\n",
    "    epochs=50,\n",
    "    verbose=2,\n",
    "    validation_data=(X_val, y_val)\n",
    ")"
   ]
  },
  {
   "cell_type": "code",
   "execution_count": 16,
   "metadata": {},
   "outputs": [],
   "source": [
    "# Save model\n",
    "model.save_weights('./model/wieghts.h5')\n",
    "model.save('./model/digit_recognizer.h5')"
   ]
  },
  {
   "cell_type": "markdown",
   "metadata": {},
   "source": [
    "## 6. Evaluating Accuracy and Loss for the Model"
   ]
  },
  {
   "cell_type": "code",
   "execution_count": 17,
   "metadata": {},
   "outputs": [
    {
     "data": {
      "text/plain": [
       "Text(0.5, 0, 'Epochs')"
      ]
     },
     "execution_count": 17,
     "metadata": {},
     "output_type": "execute_result"
    },
    {
     "data": {
      "image/png": "[encoded data removed]",
      "text/plain": [
       "<Figure size 432x288 with 1 Axes>"
      ]
     },
     "metadata": {
      "needs_background": "light"
     },
     "output_type": "display_data"
    },
    {
     "data": {
      "image/png": "[encoded data removed]",
      "text/plain": [
       "<Figure size 432x288 with 1 Axes>"
      ]
     },
     "metadata": {
      "needs_background": "light"
     },
     "output_type": "display_data"
    }
   ],
   "source": [
    "# Get metrics on training and test data\n",
    "acc = history.history['accuracy']\n",
    "val_acc = history.history['val_accuracy']\n",
    "loss = history.history['loss']\n",
    "val_loss = history.history['val_loss']\n",
    "\n",
    "# Get number of epochs\n",
    "epochs = range(len(acc)) \n",
    "\n",
    "# Plot training and validation accuracy per epoch\n",
    "plt.plot(epochs, acc, label='Training accuracy')\n",
    "plt.plot(epochs, val_acc, label='Validation accuracy')\n",
    "plt.title('Training and validation accuracy')\n",
    "plt.xlabel('Epochs')\n",
    "plt.legend(loc=0)\n",
    "plt.figure()\n",
    "\n",
    "# Plot training and validation loss per epoch\n",
    "plt.plot(epochs, loss, label='Training loss')\n",
    "plt.plot(epochs, val_loss, label='Validation loss')\n",
    "plt.legend(loc=0)\n",
    "plt.title('Training and validation loss')\n",
    "plt.xlabel('Epochs')"
   ]
  },
  {
   "cell_type": "markdown",
   "metadata": {},
   "source": [
    "## 7. Test images"
   ]
  },
  {
   "cell_type": "code",
   "execution_count": 18,
   "metadata": {},
   "outputs": [
    {
     "data": {
      "image/png": "[encoded data removed]",
      "text/plain": [
       "<Figure size 864x864 with 16 Axes>"
      ]
     },
     "metadata": {
      "needs_background": "light"
     },
     "output_type": "display_data"
    }
   ],
   "source": [
    "# Number of pictures in the grid\n",
    "nrows = 4\n",
    "ncols = 4\n",
    "\n",
    "# Set up matplotlib fig\n",
    "longitude_image = 3 # Inches per picture\n",
    "fig = plt.gcf()\n",
    "fig.set_size_inches(ncols * longitude_image, nrows * longitude_image)\n",
    "\n",
    "# Plot some examples\n",
    "for i in range(nrows*ncols):\n",
    "    # Pre-process image\n",
    "    x = test_X[i].reshape((1,) + test_X[i].shape)\n",
    "    # Predict\n",
    "    classes = model.predict(x)\n",
    "    certainty = str(np.max(classes*100).round(1)) + '%'\n",
    "    prediction = np.argmax(classes, axis=1)\n",
    "    # Plot image\n",
    "    sp = plt.subplot(nrows, ncols, i + 1)\n",
    "    sp.axis('Off') # Don't show axes (or gridlines)\n",
    "    plt.imshow(test_X[i], cmap=plt.get_cmap('gray'))\n",
    "    plt.title('This is a ' + str(prediction[0]) + ' [' + certainty + ']')\n",
    "\n",
    "# Plot grid\n",
    "plt.show()\n"
   ]
  },
  {
   "cell_type": "markdown",
   "metadata": {},
   "source": [
    "## 8. Use case"
   ]
  },
  {
   "cell_type": "code",
   "execution_count": 41,
   "metadata": {},
   "outputs": [
    {
     "data": {
      "image/png": "[encoded data removed]",
      "text/plain": [
       "<Figure size 864x864 with 1 Axes>"
      ]
     },
     "metadata": {
      "needs_background": "light"
     },
     "output_type": "display_data"
    }
   ],
   "source": [
    "# Directory with images to test\n",
    "use_case_path = './data/use_case'\n",
    "\n",
    "# Get names of pictures\n",
    "use_case_names = os.listdir(use_case_path)\n",
    "\n",
    "# Number of pictures in the grid\n",
    "nrows = 4\n",
    "ncols = 4\n",
    "\n",
    "# Set up matplotlib fig\n",
    "longitude_image = 3 # Inches per picture\n",
    "fig = plt.gcf()\n",
    "fig.set_size_inches(ncols * longitude_image, nrows * longitude_image)\n",
    "\n",
    "# Get path to each image\n",
    "use_case_pix = [os.path.join(use_case_path, fname) for fname in use_case_names[:nrows*ncols]]\n",
    "\n",
    "# Plot some examples\n",
    "for i, img_path in enumerate(use_case_pix):\n",
    "    # Load image\n",
    "    img = tf.keras.preprocessing.image.load_img(img_path, target_size=(28, 28), grayscale=True)\n",
    "    # Pre-process image\n",
    "    input_img = keras.preprocessing.image.img_to_array(img)\n",
    "    input_img = input_img / 255.\n",
    "    input_img = input_img.reshape((1,) + input_img.shape)\n",
    "    # Predict\n",
    "    classes = model.predict(input_img)\n",
    "    certainty = str(np.max(classes*100).round(1)) + '%'\n",
    "    prediction = np.argmax(classes, axis=1)\n",
    "    # Plot image\n",
    "    sp = plt.subplot(nrows, ncols, i + 1)\n",
    "    sp.axis('Off') # Don't show axes (or gridlines)\n",
    "    img = mpimg.imread(img_path)\n",
    "    plt.imshow(img, cmap=plt.get_cmap('gray'))\n",
    "    plt.title('This is a ' + str(prediction[0]) + ' [' + certainty + ']')\n",
    "\n",
    "# Plot grid\n",
    "plt.show()"
   ]
  },
  {
   "cell_type": "code",
   "execution_count": 21,
   "metadata": {},
   "outputs": [
    {
     "name": "stdout",
     "output_type": "stream",
     "text": [
      "Finished! At 2020-12-26 19:06:45\n"
     ]
    }
   ],
   "source": [
    "# Print time when finished\n",
    "now = datetime.now()\n",
    "print(\"Finished! At\", now.strftime(\"%Y-%m-%d %H:%M:%S\"))"
   ]
  },
  {
   "cell_type": "code",
   "execution_count": null,
   "metadata": {},
   "outputs": [],
   "source": []
  }
 ],
 "metadata": {
  "kernelspec": {
   "display_name": "Python-3-TensorFlow-2.1-GPU",
   "language": "python",
   "name": "tf-gpu"
  },
  "language_info": {
   "codemirror_mode": {
    "name": "ipython",
    "version": 3
   },
   "file_extension": ".py",
   "mimetype": "text/x-python",
   "name": "python",
   "nbconvert_exporter": "python",
   "pygments_lexer": "ipython3",
   "version": "3.7.6"
  }
 },
 "nbformat": 4,
 "nbformat_minor": 4
}
