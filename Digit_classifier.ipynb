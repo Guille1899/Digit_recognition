{
 "cells": [
  {
   "cell_type": "markdown",
   "metadata": {},
   "source": [
    "# Handwritten digit classifier with LeNet-5"
   ]
  },
  {
   "cell_type": "markdown",
   "metadata": {
    "toc": true
   },
   "source": [
    "<h1>Table of Contents<span class=\"tocSkip\"></span></h1>\n",
    "<div class=\"toc\"><ul class=\"toc-item\"><li><span><a href=\"#About-this-notebook\" data-toc-modified-id=\"About-this-notebook-1\"><span class=\"toc-item-num\">1&nbsp;&nbsp;</span>About this notebook</a></span></li><li><span><a href=\"#LeNet-5\" data-toc-modified-id=\"LeNet-5-2\"><span class=\"toc-item-num\">2&nbsp;&nbsp;</span>LeNet-5</a></span></li><li><span><a href=\"#Data\" data-toc-modified-id=\"Data-3\"><span class=\"toc-item-num\">3&nbsp;&nbsp;</span>Data</a></span></li><li><span><a href=\"#Imports\" data-toc-modified-id=\"Imports-4\"><span class=\"toc-item-num\">4&nbsp;&nbsp;</span>Imports</a></span></li><li><span><a href=\"#TensorFlow-information\" data-toc-modified-id=\"TensorFlow-information-5\"><span class=\"toc-item-num\">5&nbsp;&nbsp;</span>TensorFlow information</a></span></li><li><span><a href=\"#Set-paths\" data-toc-modified-id=\"Set-paths-6\"><span class=\"toc-item-num\">6&nbsp;&nbsp;</span>Set paths</a></span></li><li><span><a href=\"#Import-data\" data-toc-modified-id=\"Import-data-7\"><span class=\"toc-item-num\">7&nbsp;&nbsp;</span>Import data</a></span></li><li><span><a href=\"#Describe-data\" data-toc-modified-id=\"Describe-data-8\"><span class=\"toc-item-num\">8&nbsp;&nbsp;</span>Describe data</a></span></li><li><span><a href=\"#Digit-recognition\" data-toc-modified-id=\"Digit-recognition-9\"><span class=\"toc-item-num\">9&nbsp;&nbsp;</span>Digit recognition</a></span><ul class=\"toc-item\"><li><span><a href=\"#Shuffle-data\" data-toc-modified-id=\"Shuffle-data-9.1\"><span class=\"toc-item-num\">9.1&nbsp;&nbsp;</span>Shuffle data</a></span></li><li><span><a href=\"#Reshape\" data-toc-modified-id=\"Reshape-9.2\"><span class=\"toc-item-num\">9.2&nbsp;&nbsp;</span>Reshape</a></span></li><li><span><a href=\"#Normalize\" data-toc-modified-id=\"Normalize-9.3\"><span class=\"toc-item-num\">9.3&nbsp;&nbsp;</span>Normalize</a></span></li><li><span><a href=\"#Convert-labels-to-One-hot\" data-toc-modified-id=\"Convert-labels-to-One-hot-9.4\"><span class=\"toc-item-num\">9.4&nbsp;&nbsp;</span>Convert labels to One-hot</a></span></li><li><span><a href=\"#Create-validation-set\" data-toc-modified-id=\"Create-validation-set-9.5\"><span class=\"toc-item-num\">9.5&nbsp;&nbsp;</span>Create validation set</a></span></li><li><span><a href=\"#Convolutional-NN\" data-toc-modified-id=\"Convolutional-NN-9.6\"><span class=\"toc-item-num\">9.6&nbsp;&nbsp;</span>Convolutional NN</a></span></li><li><span><a href=\"#Train\" data-toc-modified-id=\"Train-9.7\"><span class=\"toc-item-num\">9.7&nbsp;&nbsp;</span>Train</a></span></li><li><span><a href=\"#Evaluating-the-model\" data-toc-modified-id=\"Evaluating-the-model-9.8\"><span class=\"toc-item-num\">9.8&nbsp;&nbsp;</span>Evaluating the model</a></span></li><li><span><a href=\"#Test-images\" data-toc-modified-id=\"Test-images-9.9\"><span class=\"toc-item-num\">9.9&nbsp;&nbsp;</span>Test images</a></span></li></ul></li><li><span><a href=\"#Use-case\" data-toc-modified-id=\"Use-case-10\"><span class=\"toc-item-num\">10&nbsp;&nbsp;</span>Use case</a></span></li></ul></div>"
   ]
  },
  {
   "cell_type": "markdown",
   "metadata": {},
   "source": [
    "## About this notebook\n",
    "\n",
    "This notebook allows you to recognize digits (i.e., numbers from 0 to 9) manually drawn on your screen.\n",
    "\n",
    "## LeNet-5\n",
    "\n",
    "Convolutional Neural Networks is the standard architecture of a neural network designed for solving tasks associated with images (e.g., image classification). Some of the well-known deep learning architectures for CNN are LeNet-5 (7 layers), GoogLeNet (22 layers), AlexNet (8 layers), VGG (16–19 layers), and ResNet (152 layers). \n",
    "\n",
    "For this project, we use LeNet-5, which has been successfully used on the MNIST dataset to identify handwritten-digit patterns. The LeNet-5 architecture is represented in the following image.\n",
    "\n",
    "![screenshot](img/lenet.png)\n",
    "\n",
    "## Data\n",
    "\n",
    "The dataset used to train, validate and test the model, correpsond to the [MNIST](http://yann.lecun.com/exdb/mnist/) dataset. \n",
    "It is composed by a training set of 60,000 examples, and a test set of 10,000 examples. \n",
    "The digits have been pre-processed to be size-normalized and centered in a fixed-size image of 28x28 pixels.\n",
    "\n",
    "![screenshot](img/mnist.png)"
   ]
  },
  {
   "cell_type": "markdown",
   "metadata": {},
   "source": [
    "## Imports"
   ]
  },
  {
   "cell_type": "code",
   "execution_count": 1,
   "metadata": {},
   "outputs": [],
   "source": [
    "# General imports\n",
    "import numpy as np ; np.random.seed(1) # for reproducibility\n",
    "import pandas as pd\n",
    "import os\n",
    "import zipfile\n",
    "import matplotlib.pyplot as plt\n",
    "import matplotlib.image as mpimg\n",
    "import random\n",
    "import shutil\n",
    "from pathlib import Path\n",
    "from datetime import datetime\n",
    "from sklearn.model_selection import train_test_split\n",
    "import joblib\n",
    "pd.options.mode.chained_assignment = None\n",
    "%matplotlib inline\n",
    "\n",
    "# TensorFlow\n",
    "import tensorflow as tf\n",
    "from tensorflow import keras\n",
    "from keras.utils import to_categorical\n",
    "from tensorflow.keras.optimizers import RMSprop, Adam\n",
    "from tensorflow.python.keras.models import Sequential\n",
    "from tensorflow.python.keras.layers import Dense, Conv2D, Flatten, MaxPooling2D \n",
    "\n",
    "# Tkinter\n",
    "from tkinter import *\n",
    "import PIL\n",
    "from PIL import Image, ImageDraw, ImageFilter"
   ]
  },
  {
   "cell_type": "markdown",
   "metadata": {},
   "source": [
    "## TensorFlow information"
   ]
  },
  {
   "cell_type": "code",
   "execution_count": 2,
   "metadata": {},
   "outputs": [
    {
     "name": "stdout",
     "output_type": "stream",
     "text": [
      "TensorFlow version: 2.4.0\n",
      "The CPU will be used for calculations.\n"
     ]
    }
   ],
   "source": [
    "# Indicate the version of Tensorflow and whether it uses the CPU or the GPU\n",
    "print(\"TensorFlow version:\", tf.__version__)\n",
    "\n",
    "if len(tf.config.list_physical_devices('GPU')) > 0:\n",
    "    print(\"The GPU will be used for calculations.\")\n",
    "    \n",
    "else:\n",
    "    print(\"The CPU will be used for calculations.\")"
   ]
  },
  {
   "cell_type": "markdown",
   "metadata": {},
   "source": [
    "## Set paths"
   ]
  },
  {
   "cell_type": "code",
   "execution_count": null,
   "metadata": {},
   "outputs": [],
   "source": [
    "# Define paths\n",
    "PATH_DATA = Path('data')\n",
    "PATH_MODEL = Path('model')"
   ]
  },
  {
   "cell_type": "markdown",
   "metadata": {},
   "source": [
    "## Import data "
   ]
  },
  {
   "cell_type": "code",
   "execution_count": 3,
   "metadata": {},
   "outputs": [],
   "source": [
    "# Import images and labels from the MNIST database\n",
    "(train_X, train_y), (test_X, test_y) = tf.keras.datasets.mnist.load_data()"
   ]
  },
  {
   "cell_type": "markdown",
   "metadata": {},
   "source": [
    "## Describe data"
   ]
  },
  {
   "cell_type": "code",
   "execution_count": 4,
   "metadata": {},
   "outputs": [
    {
     "name": "stdout",
     "output_type": "stream",
     "text": [
      "Training images dimensions: (60000, 28, 28)\n",
      "Training labels size: 60000\n",
      "Test images dimensions: (10000, 28, 28)\n",
      "Test labels size: 10000\n"
     ]
    }
   ],
   "source": [
    "# Describe data dimensions\n",
    "print('Training images dimensions:', train_X.shape)\n",
    "print('Training labels size:', train_y.shape[0])\n",
    "print('Test images dimensions:', test_X.shape)\n",
    "print('Test labels size:', test_y.shape[0])"
   ]
  },
  {
   "cell_type": "code",
   "execution_count": 5,
   "metadata": {},
   "outputs": [
    {
     "data": {
      "image/png": "[encoded data removed]",
      "text/plain": [
       "<Figure size 864x864 with 16 Axes>"
      ]
     },
     "metadata": {
      "needs_background": "light"
     },
     "output_type": "display_data"
    }
   ],
   "source": [
    "# Number of pictures in the grid\n",
    "nrows = 4\n",
    "ncols = 4\n",
    "\n",
    "# Set up matplotlib fig\n",
    "longitude_image = 3 # Inches per picture\n",
    "fig = plt.gcf()\n",
    "fig.set_size_inches(ncols * longitude_image, nrows * longitude_image)\n",
    "\n",
    "# Plot some examples\n",
    "for i in range(nrows*ncols):  \n",
    "    sp = plt.subplot(nrows, ncols, i + 1)\n",
    "    sp.axis('Off') # Don't show axes (or gridlines)\n",
    "    plt.imshow(train_X[i], cmap=plt.get_cmap('gray'))\n",
    "    plt.title('This is a ' + str(train_y[i]))\n",
    "\n",
    "# Plot grid\n",
    "plt.show()"
   ]
  },
  {
   "cell_type": "markdown",
   "metadata": {},
   "source": [
    "## Digit recognition"
   ]
  },
  {
   "cell_type": "markdown",
   "metadata": {},
   "source": [
    "### Shuffle data"
   ]
  },
  {
   "cell_type": "code",
   "execution_count": 6,
   "metadata": {},
   "outputs": [],
   "source": [
    "# Shuffle train data\n",
    "permut = np.random.permutation(train_X.shape[0])\n",
    "train_X = train_X[permut]\n",
    "train_y = train_y[permut]\n",
    "\n",
    "# Shuffle test data\n",
    "permut = np.random.permutation(test_X.shape[0])\n",
    "test_X = test_X[permut]\n",
    "test_y = test_y[permut]"
   ]
  },
  {
   "cell_type": "markdown",
   "metadata": {},
   "source": [
    "### Reshape"
   ]
  },
  {
   "cell_type": "code",
   "execution_count": 7,
   "metadata": {},
   "outputs": [
    {
     "name": "stdout",
     "output_type": "stream",
     "text": [
      "Training images dimensions: (60000, 28, 28, 1)\n",
      "Test images dimensions: (10000, 28, 28, 1)\n"
     ]
    }
   ],
   "source": [
    "# Reshape images to include the channels\n",
    "train_X = train_X.reshape(train_X.shape + (1,))\n",
    "test_X = test_X.reshape(test_X.shape + (1,))\n",
    "\n",
    "# Describe data dimensions\n",
    "print('Training images dimensions:', train_X.shape)\n",
    "print('Test images dimensions:', test_X.shape)"
   ]
  },
  {
   "cell_type": "markdown",
   "metadata": {},
   "source": [
    "### Normalize"
   ]
  },
  {
   "cell_type": "code",
   "execution_count": 8,
   "metadata": {},
   "outputs": [],
   "source": [
    "# Normalize\n",
    "train_X = train_X / 255.\n",
    "test_X = test_X / 255.              "
   ]
  },
  {
   "cell_type": "markdown",
   "metadata": {},
   "source": [
    "### Convert labels to One-hot"
   ]
  },
  {
   "cell_type": "code",
   "execution_count": 9,
   "metadata": {},
   "outputs": [],
   "source": [
    "# Converte Labels to one hot encoded format\n",
    "train_y_one_hot = to_categorical(train_y)\n",
    "test_y_one_hot = to_categorical(test_y)"
   ]
  },
  {
   "cell_type": "markdown",
   "metadata": {},
   "source": [
    "### Create validation set"
   ]
  },
  {
   "cell_type": "code",
   "execution_count": 10,
   "metadata": {},
   "outputs": [],
   "source": [
    "# Create validation set\n",
    "X_train, X_val, y_train, y_val = train_test_split(train_X, \n",
    "                                                  train_y_one_hot, \n",
    "                                                  test_size=0.05, \n",
    "                                                  random_state=1)"
   ]
  },
  {
   "cell_type": "code",
   "execution_count": 11,
   "metadata": {},
   "outputs": [
    {
     "name": "stdout",
     "output_type": "stream",
     "text": [
      "Training images dimensions: (57000, 28, 28, 1)\n",
      "Training labels size: 57000\n",
      "Validation images dimensions: (3000, 28, 28, 1)\n",
      "Validation labels size: 3000\n",
      "Test images dimensions: (10000, 28, 28, 1)\n",
      "Test labels size: 10000\n"
     ]
    }
   ],
   "source": [
    "# Describe data dimensions\n",
    "print('Training images dimensions:', X_train.shape)\n",
    "print('Training labels size:', y_train.shape[0])\n",
    "print('Validation images dimensions:', X_val.shape)\n",
    "print('Validation labels size:', y_val.shape[0])\n",
    "print('Test images dimensions:', test_X.shape)\n",
    "print('Test labels size:', test_y.shape[0])"
   ]
  },
  {
   "cell_type": "markdown",
   "metadata": {},
   "source": [
    "### Convolutional NN\n"
   ]
  },
  {
   "cell_type": "code",
   "execution_count": 12,
   "metadata": {},
   "outputs": [
    {
     "name": "stdout",
     "output_type": "stream",
     "text": [
      "The last saved model saved will be used.\n"
     ]
    }
   ],
   "source": [
    "# Decide whether you want to retrain the model or not\n",
    "retrain = False # True\n",
    "\n",
    "if retrain:\n",
    "    print('The model will be retrained.')\n",
    "else:\n",
    "    print('The last saved model saved will be used.')"
   ]
  },
  {
   "cell_type": "code",
   "execution_count": 13,
   "metadata": {},
   "outputs": [],
   "source": [
    "if retrain:\n",
    "    \n",
    "    # Create LeNet-5 architecture\n",
    "    lenet_5_model = tf.keras.Sequential([\n",
    "        tf.keras.layers.Conv2D(32, (3,3), activation='relu', input_shape=(28,28,1)),\n",
    "        tf.keras.layers.Conv2D(64, (3,3), activation='relu'),\n",
    "        tf.keras.layers.MaxPooling2D(2,2),\n",
    "        tf.keras.layers.Dropout(0.25),\n",
    "        tf.keras.layers.Flatten(),\n",
    "        tf.keras.layers.Dense(128, activation='relu'),\n",
    "        tf.keras.layers.Dropout(0.5),\n",
    "        tf.keras.layers.Dense(10, activation='softmax')\n",
    "    ])\n",
    "\n",
    "    # Print summary\n",
    "    lenet_5_model.summary()"
   ]
  },
  {
   "cell_type": "code",
   "execution_count": 14,
   "metadata": {},
   "outputs": [],
   "source": [
    "if retrain:\n",
    "\n",
    "    # Compile model\n",
    "    lenet_5_model.compile(\n",
    "        optimizer='adam', \n",
    "        loss='categorical_crossentropy', \n",
    "        metrics=['accuracy']\n",
    "    )"
   ]
  },
  {
   "cell_type": "markdown",
   "metadata": {},
   "source": [
    "### Train"
   ]
  },
  {
   "cell_type": "code",
   "execution_count": 15,
   "metadata": {},
   "outputs": [],
   "source": [
    "if retrain:\n",
    "\n",
    "    # Set seed for random functions\n",
    "    tf.random.set_seed(1)\n",
    "\n",
    "    # Fit the model\n",
    "    history = lenet_5_model.fit(\n",
    "        x=X_train,\n",
    "        y=y_train,\n",
    "        batch_size=32,\n",
    "        epochs=30,\n",
    "        verbose=2,\n",
    "        validation_data=(X_val, y_val)\n",
    "    )"
   ]
  },
  {
   "cell_type": "code",
   "execution_count": 16,
   "metadata": {},
   "outputs": [],
   "source": [
    "if retrain:\n",
    "\n",
    "    # Save model\n",
    "    lenet_5_model.save_weights(os.path.join(PATH_MODEL, 'wieghts_lenet_5.h5'))\n",
    "    lenet_5_model.save(os.path.join(PATH_MODEL, 'digit_recognizer_lenet_5.h5'))"
   ]
  },
  {
   "cell_type": "code",
   "execution_count": 17,
   "metadata": {},
   "outputs": [],
   "source": [
    "# Load model\n",
    "lenet_5_model = keras.models.load_model(os.path.join(PATH_MODEL, 'digit_recognizer_lenet_5.h5'))"
   ]
  },
  {
   "cell_type": "markdown",
   "metadata": {},
   "source": [
    "### Evaluating the model"
   ]
  },
  {
   "cell_type": "code",
   "execution_count": 18,
   "metadata": {},
   "outputs": [],
   "source": [
    "if retrain:\n",
    "    \n",
    "    # Get metrics on training and test data\n",
    "    acc = history.history['accuracy']\n",
    "    val_acc = history.history['val_accuracy']\n",
    "    loss = history.history['loss']\n",
    "    val_loss = history.history['val_loss']\n",
    "    \n",
    "    # Save history objects\n",
    "    joblib.dump(acc, os.path.join(PATH_MODEL, '.acc_lenet_5.h5'))\n",
    "    joblib.dump(val_acc, os.path.join(PATH_MODEL, 'val_acc_lenet_5.h5'))\n",
    "    joblib.dump(loss, os.path.join(PATH_MODEL, 'loss_lenet_5.h5'))\n",
    "    joblib.dump(val_loss, os.path.join(PATH_MODEL, 'val_loss_lenet_5.h5'))\n",
    "    "
   ]
  },
  {
   "cell_type": "code",
   "execution_count": 19,
   "metadata": {},
   "outputs": [],
   "source": [
    "# Load history objects\n",
    "acc = joblib.load(os.path.join(PATH_MODEL, 'acc_lenet_5.h5'))\n",
    "val_acc = joblib.load(os.path.join(PATH_MODEL, 'val_acc_lenet_5.h5'))\n",
    "loss = joblib.load(os.path.join(PATH_MODEL, 'loss_lenet_5.h5'))\n",
    "val_loss = joblib.load(os.path.join(PATH_MODEL, 'val_loss_lenet_5.h5'))\n"
   ]
  },
  {
   "cell_type": "code",
   "execution_count": 33,
   "metadata": {},
   "outputs": [
    {
     "data": {
      "image/png": "[encoded data removed]",
      "text/plain": [
       "<Figure size 1080x288 with 2 Axes>"
      ]
     },
     "metadata": {
      "needs_background": "light"
     },
     "output_type": "display_data"
    }
   ],
   "source": [
    "# Get number of epochs\n",
    "epochs = range(len(acc)) \n",
    "\n",
    "# Set subplot\n",
    "plt.figure(figsize=(15, 4))\n",
    "\n",
    "# Plot training and validation accuracy per epoch\n",
    "plt.subplot(1, 2, 1)\n",
    "plt.plot(epochs, acc, label='Training accuracy')\n",
    "plt.plot(epochs, val_acc, label='Validation accuracy')\n",
    "plt.title('Training and validation accuracy')\n",
    "plt.xlabel('Epochs')\n",
    "plt.legend(loc=0)\n",
    "\n",
    "# Plot training and validation loss per epoch\n",
    "plt.subplot(1, 2, 2)\n",
    "plt.plot(epochs, loss, label='Training loss')\n",
    "plt.plot(epochs, val_loss, label='Validation loss')\n",
    "plt.legend(loc=0)\n",
    "plt.title('Training and validation loss')\n",
    "plt.xlabel('Epochs')\n",
    "\n",
    "# Save figure and show\n",
    "plt.savefig('app/assets/accuracy.png', dpi=150)\n",
    "plt.show()"
   ]
  },
  {
   "cell_type": "markdown",
   "metadata": {},
   "source": [
    "### Test images"
   ]
  },
  {
   "cell_type": "code",
   "execution_count": 21,
   "metadata": {},
   "outputs": [
    {
     "data": {
      "image/png": "[encoded data removed]",
      "text/plain": [
       "<Figure size 1080x1080 with 25 Axes>"
      ]
     },
     "metadata": {
      "needs_background": "light"
     },
     "output_type": "display_data"
    }
   ],
   "source": [
    "# Number of pictures in the grid\n",
    "nrows = 5\n",
    "ncols = 5\n",
    "\n",
    "# Set up matplotlib fig\n",
    "longitude_image = 3 # Inches per picture\n",
    "fig = plt.gcf()\n",
    "fig.set_size_inches(ncols * longitude_image, nrows * longitude_image)\n",
    "\n",
    "# Plot some examples\n",
    "for i in range(nrows*ncols):\n",
    "    # Pre-process image\n",
    "    x = test_X[i].reshape((1,) + test_X[i].shape)\n",
    "    # Predict\n",
    "    classes = lenet_5_model.predict(x)\n",
    "    certainty = str(np.max(classes*100).round(1)) + '%'\n",
    "    prediction = np.argmax(classes, axis=1)\n",
    "    # Plot image\n",
    "    sp = plt.subplot(nrows, ncols, i + 1)\n",
    "    sp.axis('Off') # Don't show axes (or gridlines)\n",
    "    plt.imshow(test_X[i], cmap=plt.get_cmap('gray'))\n",
    "    plt.title('This is a ' + str(prediction[0]) + ' [' + certainty + ']')\n",
    "\n",
    "# Plot grid\n",
    "plt.show()\n"
   ]
  },
  {
   "cell_type": "markdown",
   "metadata": {},
   "source": [
    "## Use case"
   ]
  },
  {
   "cell_type": "code",
   "execution_count": 22,
   "metadata": {},
   "outputs": [],
   "source": [
    "# Create canvas to draw digits\n",
    "use_case_path = os.path.join(PATH_DATA, 'use_case')\n",
    "\n",
    "def save():\n",
    "    global i\n",
    "    image_name = 'image_' + str(i) + '.png'   \n",
    "    new_image.save(use_case_path + image_name)\n",
    "    i += 1\n",
    "    clear()\n",
    "    \n",
    "def clear():\n",
    "    global new_image, draw\n",
    "    cv.delete(\"all\")\n",
    "    new_image = PIL.Image.new('RGB', (560, 560), 'black')\n",
    "    draw = ImageDraw.Draw(new_image)\n",
    "\n",
    "def activate_paint(e):\n",
    "    global lastx, lasty\n",
    "    cv.bind('<B1-Motion>', paint)\n",
    "    lastx, lasty = e.x, e.y\n",
    "\n",
    "def paint(e):\n",
    "    global lastx, lasty\n",
    "    x, y = e.x, e.y\n",
    "    cv.create_line((lastx, lasty, x, y), fill='white', width=60, capstyle=ROUND, smooth=True)\n",
    "    draw.line((lastx, lasty, x, y), fill='white', width=60)\n",
    "    lastx, lasty = x, y\n",
    "\n",
    "# Initialize variables\n",
    "root = Tk()\n",
    "lastx, lasty = None, None\n",
    "i = 0\n",
    "\n",
    "# Create canvas\n",
    "cv = Canvas(root, width=560, height=560, bg='black')\n",
    "cv.bind('<1>', activate_paint)\n",
    "cv.pack(expand=YES, fill=BOTH)\n",
    "\n",
    "# Create new image\n",
    "new_image = PIL.Image.new('RGB', (560, 560), 'black')\n",
    "draw = ImageDraw.Draw(new_image)\n",
    "\n",
    "# Add buttons\n",
    "btn_save = Button(text=\"Save\", command=save, fg=\"green\")\n",
    "btn_save.pack()\n",
    "btn_clear = Button(text=\"Clear\", command=clear)\n",
    "btn_clear.pack()\n",
    "\n",
    "# Add title\n",
    "root.title(\"Digit recognition\")\n",
    "\n",
    "# Remove previous images stored\n",
    "filelist = [f for f in os.listdir(use_case_path) if f.endswith(\".png\") ]\n",
    "for f in filelist:\n",
    "    os.remove(os.path.join(use_case_path, f))\n",
    "\n",
    "# Run\n",
    "root.mainloop()"
   ]
  },
  {
   "cell_type": "code",
   "execution_count": 23,
   "metadata": {},
   "outputs": [
    {
     "data": {
      "image/png": "[encoded data removed]",
      "text/plain": [
       "<Figure size 1440x1440 with 2 Axes>"
      ]
     },
     "metadata": {
      "needs_background": "light"
     },
     "output_type": "display_data"
    }
   ],
   "source": [
    "def imageprepare(path_to_image):\n",
    "    \n",
    "    \"\"\"\"\n",
    "    Function to preprocess a raw image and transform it to MNIST style\n",
    "    \"\"\"\n",
    "    \n",
    "    # Load image and get dimensions\n",
    "    img = Image.open(path_to_image).convert('L')\n",
    "    width = float(img.size[0])\n",
    "    height = float(img.size[1])\n",
    "    \n",
    "    # Create new image\n",
    "    newImage = Image.new('L', (28, 28), 'black')\n",
    "    nwidth = int(round((20.0 / height * width), 0))  \n",
    "    img = img.resize((nwidth, 20), Image.ANTIALIAS).filter(ImageFilter.SHARPEN)\n",
    "    wleft = int(round(((28 - nwidth) / 2), 0)) \n",
    "    newImage.paste(img, (wleft, 4))  \n",
    "    \n",
    "    # Process image\n",
    "    img_array = np.array(newImage.getdata()) \n",
    "    img_array = tf.reshape(img_array, [28, 28, 1])\n",
    "\n",
    "    return img_array\n",
    "\n",
    "# Get names of pictures\n",
    "use_case_names = os.listdir(use_case_path)\n",
    "\n",
    "# Number of pictures in the grid\n",
    "nrows = 4\n",
    "ncols = 4\n",
    "\n",
    "# Set up matplotlib fig\n",
    "longitude_image = 5 # Inches per picture\n",
    "fig = plt.gcf()\n",
    "fig.set_size_inches(ncols * longitude_image, nrows * longitude_image)\n",
    "\n",
    "# Get names of pictures\n",
    "use_case_names = os.listdir(use_case_path)\n",
    "\n",
    "# Get path to each image\n",
    "use_case_pix = [os.path.join(use_case_path, fname) for fname in use_case_names[:nrows*ncols]]\n",
    "\n",
    "# Plot some examples\n",
    "for i, img_path in enumerate(use_case_pix):\n",
    "    \n",
    "    # Load image\n",
    "    img = imageprepare(img_path)\n",
    "    \n",
    "    # Pre-process image\n",
    "    input_img = keras.preprocessing.image.img_to_array(img)\n",
    "    input_img = input_img / 255.\n",
    "    input_img = input_img.reshape((1,) + input_img.shape)\n",
    "    \n",
    "    # Predict\n",
    "    classes = lenet_5_model.predict(input_img)\n",
    "    certainty = str(np.max(classes*100).round(1)) + '%'\n",
    "    prediction = np.argmax(classes, axis=1)\n",
    "    \n",
    "    # Plot image\n",
    "    sp = plt.subplot(nrows, ncols, i + 1)\n",
    "    sp.axis('Off') # Don't show axes (or gridlines)\n",
    "    plt.imshow(img, cmap=plt.get_cmap('gray'))\n",
    "    plt.title('This is a ' + str(prediction[0]) + ' [' + certainty + ']')\n",
    "\n",
    "# Plot grid\n",
    "plt.show()"
   ]
  }
 ],
 "metadata": {
  "kernelspec": {
   "display_name": "digit_recognition",
   "language": "python",
   "name": "digit_recognition"
  },
  "language_info": {
   "codemirror_mode": {
    "name": "ipython",
    "version": 3
   },
   "file_extension": ".py",
   "mimetype": "text/x-python",
   "name": "python",
   "nbconvert_exporter": "python",
   "pygments_lexer": "ipython3",
   "version": "3.8.5"
  },
  "toc": {
   "base_numbering": 1,
   "nav_menu": {},
   "number_sections": true,
   "sideBar": true,
   "skip_h1_title": true,
   "title_cell": "Table of Contents",
   "title_sidebar": "Contents",
   "toc_cell": true,
   "toc_position": {},
   "toc_section_display": true,
   "toc_window_display": true
  }
 },
 "nbformat": 4,
 "nbformat_minor": 4
}
